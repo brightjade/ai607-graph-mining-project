{
 "cells": [
  {
   "cell_type": "code",
   "execution_count": 1,
   "metadata": {
    "ExecuteTime": {
     "end_time": "2020-04-12T14:14:34.092872Z",
     "start_time": "2020-04-12T14:14:32.424880Z"
    }
   },
   "outputs": [],
   "source": [
    "import numpy as np\n",
    "import matplotlib.pyplot as plt\n",
    "from sklearn import datasets\n",
    "from tqdm import tqdm\n",
    "\n",
    "from collections import defaultdict\n",
    "import re\n",
    "import time"
   ]
  },
  {
   "cell_type": "code",
   "execution_count": 20,
   "metadata": {
    "ExecuteTime": {
     "end_time": "2020-04-11T12:59:26.812098Z",
     "start_time": "2020-04-11T12:59:26.807330Z"
    }
   },
   "outputs": [],
   "source": [
    "### You may import any Python's standard library here (Do not import other external libraries) ###\n"
   ]
  },
  {
   "cell_type": "code",
   "execution_count": 2,
   "metadata": {
    "ExecuteTime": {
     "end_time": "2020-04-12T14:14:42.083250Z",
     "start_time": "2020-04-12T14:14:42.077951Z"
    }
   },
   "outputs": [],
   "source": [
    "pass_test1_1_1 = False\n",
    "pass_test1_1_2 = False\n",
    "pass_test1_2 = False\n",
    "pass_test2_1 = False\n",
    "pass_test2_2 = False"
   ]
  },
  {
   "cell_type": "markdown",
   "metadata": {},
   "source": [
    "## Implementing LSH algorithm"
   ]
  },
  {
   "cell_type": "markdown",
   "metadata": {},
   "source": [
    "### 0. Dataset"
   ]
  },
  {
   "cell_type": "markdown",
   "metadata": {},
   "source": [
    "#### 0.1 Import 20-news dataset"
   ]
  },
  {
   "cell_type": "code",
   "execution_count": 3,
   "metadata": {
    "ExecuteTime": {
     "end_time": "2020-04-12T14:14:45.830806Z",
     "start_time": "2020-04-12T14:14:44.574731Z"
    }
   },
   "outputs": [],
   "source": [
    "newsgroup_dataset = datasets.fetch_20newsgroups(data_home='./dataset/', subset='train', \n",
    "                                                remove=('headers', 'footers', 'quotes'), download_if_missing=True)"
   ]
  },
  {
   "cell_type": "code",
   "execution_count": 4,
   "metadata": {
    "ExecuteTime": {
     "end_time": "2020-04-12T14:14:46.538394Z",
     "start_time": "2020-04-12T14:14:46.525333Z"
    }
   },
   "outputs": [
    {
     "data": {
      "text/plain": [
       "11314"
      ]
     },
     "execution_count": 4,
     "metadata": {},
     "output_type": "execute_result"
    }
   ],
   "source": [
    "raw_documents = newsgroup_dataset['data']    # removed [:10] for test\n",
    "len(raw_documents)"
   ]
  },
  {
   "cell_type": "code",
   "execution_count": 5,
   "metadata": {
    "ExecuteTime": {
     "end_time": "2020-04-12T14:14:57.728232Z",
     "start_time": "2020-04-12T14:14:57.722191Z"
    }
   },
   "outputs": [
    {
     "data": {
      "text/plain": [
       "'I was wondering if anyone out there could enlighten me on this car I saw\\nthe other day. It was a 2-door sports car, looked to be from the late 60s/\\nearly 70s. It was called a Bricklin. The doors were really small. In addition,\\nthe front bumper was separate from the rest of the body. This is \\nall I know. If anyone can tellme a model name, engine specs, years\\nof production, where this car is made, history, or whatever info you\\nhave on this funky looking car, please e-mail.'"
      ]
     },
     "execution_count": 5,
     "metadata": {},
     "output_type": "execute_result"
    }
   ],
   "source": [
    "raw_documents[0]"
   ]
  },
  {
   "cell_type": "markdown",
   "metadata": {},
   "source": [
    "#### 0.2 Preprocess the documents"
   ]
  },
  {
   "cell_type": "code",
   "execution_count": 6,
   "metadata": {
    "ExecuteTime": {
     "end_time": "2020-04-12T14:14:59.901047Z",
     "start_time": "2020-04-12T14:14:59.896734Z"
    }
   },
   "outputs": [],
   "source": [
    "K = 5  # number of word tokens to shingle"
   ]
  },
  {
   "cell_type": "code",
   "execution_count": 7,
   "metadata": {
    "ExecuteTime": {
     "end_time": "2020-04-12T14:15:02.569093Z",
     "start_time": "2020-04-12T14:15:02.557755Z"
    }
   },
   "outputs": [],
   "source": [
    "def preprocess(documents):\n",
    "    processed_words = defaultdict(list)\n",
    "    cnt = 0\n",
    "    \n",
    "    for doc in documents:\n",
    "        # first, filter out some uncesseary symbols like punctuations\n",
    "        doc = re.sub('\\/|\\-|\\'|\\@|\\%|\\$|\\#|\\,|\\(|\\)|\\}|\\\"|\\{|\\?|\\.|\\!|\\;|\\:', '', doc)\n",
    "        \n",
    "        # second, split the document into the words\n",
    "        for word in doc.split():\n",
    "            \n",
    "            # third, let word to be the lower-case\n",
    "            if word.isalpha():\n",
    "                processed_words[cnt].append(word.lower())\n",
    "        \n",
    "        # fourth, filter out the articles that has less than k shingles\n",
    "        if len(processed_words[cnt]) < K:\n",
    "            continue\n",
    "        else:\n",
    "            processed_words[cnt] = ' '.join(processed_words[cnt])\n",
    "            cnt += 1\n",
    "\n",
    "    return list(processed_words.values())"
   ]
  },
  {
   "cell_type": "code",
   "execution_count": 8,
   "metadata": {
    "ExecuteTime": {
     "end_time": "2020-04-12T14:15:04.348769Z",
     "start_time": "2020-04-12T14:15:03.517188Z"
    }
   },
   "outputs": [
    {
     "data": {
      "text/plain": [
       "10882"
      ]
     },
     "execution_count": 8,
     "metadata": {},
     "output_type": "execute_result"
    }
   ],
   "source": [
    "documents = preprocess(raw_documents)\n",
    "del raw_documents\n",
    "len(documents)"
   ]
  },
  {
   "cell_type": "code",
   "execution_count": 9,
   "metadata": {
    "ExecuteTime": {
     "end_time": "2020-04-12T14:15:08.162092Z",
     "start_time": "2020-04-12T14:15:08.155728Z"
    }
   },
   "outputs": [
    {
     "data": {
      "text/plain": [
       "'i was wondering if anyone out there could enlighten me on this car i saw the other day it was a sports car looked to be from the late early it was called a bricklin the doors were really small in addition the front bumper was separate from the rest of the body this is all i know if anyone can tellme a model name engine specs years of production where this car is made history or whatever info you have on this funky looking car please email'"
      ]
     },
     "execution_count": 9,
     "metadata": {},
     "output_type": "execute_result"
    }
   ],
   "source": [
    "documents[0]"
   ]
  },
  {
   "cell_type": "markdown",
   "metadata": {},
   "source": [
    "### 1. Shingling"
   ]
  },
  {
   "cell_type": "code",
   "execution_count": null,
   "metadata": {},
   "outputs": [],
   "source": [
    "########################################################################################################################\n",
    "# Programming 1  [15pt]                                                                                                #\n",
    "#  In this section, you will implement the shingling algorithm to convert the document into the characteristic matrix. #\n",
    "#  However, since storing the whole characteristic matrix in the form of a dense matrix is expensivein terms of space, #\n",
    "#    your implementation should store the characteristic matrix in the form of a dictionary.                           #\n",
    "#                                                                                                                      #\n",
    "#    i) get the all unique shingles from the documents [10pt]                                                          #\n",
    "#   ii) create the dictionary that maps each document to the list of shingles [5pt]                                    #\n",
    "#                                                                                                                      #\n",
    "#  Note that, shingling is divided into 2-steps just for the readability of the algorithm                              #\n",
    "#                                                                                                                      #\n",
    "########################################################################################################################"
   ]
  },
  {
   "cell_type": "markdown",
   "metadata": {},
   "source": [
    "#### 1.1 Get Shingles from the documents"
   ]
  },
  {
   "cell_type": "code",
   "execution_count": 10,
   "metadata": {
    "ExecuteTime": {
     "end_time": "2020-04-12T14:15:11.107395Z",
     "start_time": "2020-04-12T14:15:11.097650Z"
    }
   },
   "outputs": [],
   "source": [
    "def get_shingles(documents):\n",
    "    ######################################################################################\n",
    "    # Programming 1.1  [10pt]                                                            #\n",
    "    #  Implement 'get_shingles' function to get 1-singles from the preprocessed documents  #\n",
    "    #  You should especially be take care of your algorithm's computational efficiency   #\n",
    "    #                                                                                    #\n",
    "    #  Parameters:                                                                       #\n",
    "    #    documents (dict)                                                                #\n",
    "    #                                                                                    #\n",
    "    #  Returns:                                                                          #\n",
    "    #    shingles (set) set of tuples where each element is a k-shingle                  #\n",
    "    #    ex) shingles = {('its', 'hard', 'to', 'say', 'whether'),                        #\n",
    "    #                    ('known', 'bugs', 'in', 'the', 'warning') ...}                  #\n",
    "    ######################################################################################\n",
    "    \n",
    "    shingles = set()\n",
    "    for doc in documents:\n",
    "        words = doc.split()\n",
    "        for i in range(len(words)-K+1):\n",
    "            shingles.add(tuple(words[i:i+K]))\n",
    "    return shingles"
   ]
  },
  {
   "cell_type": "code",
   "execution_count": 11,
   "metadata": {
    "ExecuteTime": {
     "end_time": "2020-04-12T14:15:21.966447Z",
     "start_time": "2020-04-12T14:15:20.655825Z"
    }
   },
   "outputs": [
    {
     "name": "stdout",
     "output_type": "stream",
     "text": [
      "Test1 passed\n",
      "Test2 passed\n"
     ]
    }
   ],
   "source": [
    "start = time.time()\n",
    "shingles = get_shingles(documents)\n",
    "end = time.time()\n",
    "\n",
    "# Check whether your implementation is correct [5pt]\n",
    "if len(shingles) == 1766049:\n",
    "    pass_test1_1_1 = True\n",
    "    print('Test1 passed')\n",
    "    \n",
    "    # Check whether your implementation is efficient enough [5pt]\n",
    "    # With 4-lines of my implementations, it took 4.8 seconds with i7-8700 cpu\n",
    "    if (end - start) < 20:\n",
    "        pass_test1_1_2 = True\n",
    "        print('Test2 passed')\n",
    "        "
   ]
  },
  {
   "cell_type": "markdown",
   "metadata": {},
   "source": [
    "#### 1.2 Build document to shingles dictionary"
   ]
  },
  {
   "cell_type": "code",
   "execution_count": 12,
   "metadata": {
    "ExecuteTime": {
     "end_time": "2020-04-12T14:15:26.016647Z",
     "start_time": "2020-04-12T14:15:26.010856Z"
    }
   },
   "outputs": [],
   "source": [
    "def build_doc_to_shingle_dictionary(documents, shingles):\n",
    "    ################################################################################################################################\n",
    "    # Programming 1.2 [5pt]                                                                                                        #\n",
    "    #  Implement 'build_doc_to_shingle_dictionary' function to convert documents into shingle dictionary with documents & shingles #\n",
    "    #   You need to construct and utilize a shingle2idx dictionary that maps each shingle into the uniuqe integer index.           #\n",
    "    #                                                                                                                              #\n",
    "    #  Parameters:                                                                                                                 #\n",
    "    #    documents (dict)                                                                                                          #                                               \n",
    "    #    shingles (set)                                                                                                            #          \n",
    "    #                                                                                                                              #\n",
    "    #  Returns:                                                                                                                    #\n",
    "    #    doc_to_shingles (dict)                                                                                                    #\n",
    "    #        key: index of the documents                                                                                           #\n",
    "    #        value: list of the shingle indexes                                                                                    #\n",
    "    #        ex) doc_to_shingles = {0: [1705196, 422880, 491967, ...],                                                             #\n",
    "    #                               1: [863922, 1381606, 1524066, ...],                                                            #\n",
    "    #                               ... }                                                                                          #\n",
    "    ################################################################################################################################\n",
    "    \n",
    "    doc_to_shingles = defaultdict(list)\n",
    "    shingle2idx = {}\n",
    "    \n",
    "    # shingle2idx = {shingle0: 0, shingle1: 1, ...}\n",
    "    for idx, shingle in enumerate(shingles):\n",
    "        shingle2idx[shingle] = idx\n",
    "    \n",
    "    for idx, doc in enumerate(documents):\n",
    "        words = doc.split()\n",
    "        for i in range(len(words)-K+1):\n",
    "            doc_to_shingles[idx].append(shingle2idx[tuple(words[i:i+K])])\n",
    "    \n",
    "    return doc_to_shingles"
   ]
  },
  {
   "cell_type": "code",
   "execution_count": 13,
   "metadata": {
    "ExecuteTime": {
     "end_time": "2020-04-12T14:15:33.326266Z",
     "start_time": "2020-04-12T14:15:30.145304Z"
    }
   },
   "outputs": [
    {
     "name": "stdout",
     "output_type": "stream",
     "text": [
      "Test passed\n"
     ]
    }
   ],
   "source": [
    "doc_to_shingles = build_doc_to_shingle_dictionary(documents, shingles)\n",
    "\n",
    "# Check whether your implementation is correct [5pt]\n",
    "if len(doc_to_shingles) == 10882 and len(doc_to_shingles[0]) == 84:\n",
    "    pass_test1_2 = True\n",
    "    print('Test passed')"
   ]
  },
  {
   "cell_type": "markdown",
   "metadata": {},
   "source": [
    "### 2. Min-Hashing"
   ]
  },
  {
   "cell_type": "code",
   "execution_count": null,
   "metadata": {},
   "outputs": [],
   "source": [
    "############################################################################################################################\n",
    "# Programming 2  [25pt]                                                                                                    #\n",
    "#  In this section, you will implement the min-hashing algorithm to convert the characteristic matrix into the signatures. #\n",
    "#                                                                                                                          #\n",
    "#    i) implement the jaccard-similarity algorithm [5pt]                                                                   #\n",
    "#   ii) implement the min-hash algorithm to create the signatures for the documents [20pt]                                 #\n",
    "#                                                                                                                          #\n",
    "############################################################################################################################"
   ]
  },
  {
   "cell_type": "markdown",
   "metadata": {},
   "source": [
    "#### 2.1 Generate Prime numbers for Universal Hashing"
   ]
  },
  {
   "cell_type": "code",
   "execution_count": 14,
   "metadata": {
    "ExecuteTime": {
     "end_time": "2020-04-12T14:15:39.849272Z",
     "start_time": "2020-04-12T14:15:39.838111Z"
    }
   },
   "outputs": [],
   "source": [
    "def is_prime(n):\n",
    "    for i in range(2,int(np.sqrt(n))+1):\n",
    "        if not n % i:\n",
    "            return False\n",
    "    return True\n",
    "\n",
    "def generate_prime_numbers(M, N):\n",
    "    # this function generate the M prime numbers where each prime number is greater than N\n",
    "    primes = []\n",
    "    cnt = 0\n",
    "    n = N + 1\n",
    "    \n",
    "    while cnt < M:\n",
    "        if is_prime(n):\n",
    "            primes.append(n)\n",
    "            cnt += 1\n",
    "        n += 1\n",
    "    return primes"
   ]
  },
  {
   "cell_type": "code",
   "execution_count": 15,
   "metadata": {
    "ExecuteTime": {
     "end_time": "2020-04-12T14:15:44.599142Z",
     "start_time": "2020-04-12T14:15:44.595036Z"
    }
   },
   "outputs": [
    {
     "data": {
      "text/plain": [
       "[5, 7, 11]"
      ]
     },
     "execution_count": 15,
     "metadata": {},
     "output_type": "execute_result"
    }
   ],
   "source": [
    "# Test prime number generation\n",
    "generate_prime_numbers(M = 3, N = 3)"
   ]
  },
  {
   "cell_type": "markdown",
   "metadata": {},
   "source": [
    "#### 2.2 Jaccard Similarity"
   ]
  },
  {
   "cell_type": "code",
   "execution_count": 16,
   "metadata": {
    "ExecuteTime": {
     "end_time": "2020-04-12T14:15:49.259138Z",
     "start_time": "2020-04-12T14:15:49.252522Z"
    }
   },
   "outputs": [],
   "source": [
    "def jaccard_similarity(s1, s2):\n",
    "    ##################################################################################\n",
    "    # Programming 2.2 [5pt]                                                          #                                    \n",
    "    #   Implement the jaccard similarity algorithm to get the similarity of two sets #\n",
    "    #                                                                                #\n",
    "    # Parameters                                                                     #\n",
    "    #    s1 (set)                                                                    #\n",
    "    #    s2 (set)                                                                    #\n",
    "    # Returns                                                                        #\n",
    "    #    similarity (float)                                                          #\n",
    "    ##################################################################################\n",
    "    return len(s1.intersection(s2)) / len(s1.union(s2))"
   ]
  },
  {
   "cell_type": "code",
   "execution_count": 17,
   "metadata": {
    "ExecuteTime": {
     "end_time": "2020-04-12T14:15:53.913867Z",
     "start_time": "2020-04-12T14:15:53.909294Z"
    }
   },
   "outputs": [
    {
     "name": "stdout",
     "output_type": "stream",
     "text": [
      "Test passed\n"
     ]
    }
   ],
   "source": [
    "s1 = {1, 3, 4}\n",
    "s2 = {3, 4, 6}\n",
    "\n",
    "if (jaccard_similarity(s1, s2) - 0.5) < 1e-3:\n",
    "    pass_test2_1 = True\n",
    "    print('Test passed')"
   ]
  },
  {
   "cell_type": "markdown",
   "metadata": {},
   "source": [
    "#### 2.3 Min Hash"
   ]
  },
  {
   "cell_type": "code",
   "execution_count": 18,
   "metadata": {
    "ExecuteTime": {
     "end_time": "2020-04-12T14:15:58.410777Z",
     "start_time": "2020-04-12T14:15:58.391301Z"
    }
   },
   "outputs": [],
   "source": [
    "M = 100  # Number of Hash functions to use\n",
    "N = len(shingles)\n",
    "\n",
    "# First we will create M universal hashing functions\n",
    "#  You can also modify or implement your own hash functions for implementing min_hash function\n",
    "\n",
    "class Hash():\n",
    "    def __init__(self, M, N, p):\n",
    "        self.M = M\n",
    "        self.N = N\n",
    "        self.p = p\n",
    "        \n",
    "        self.a = np.random.randint(9999)\n",
    "        self.b = np.random.randint(9999)\n",
    "    \n",
    "    def __call__(self, x):\n",
    "        return np.mod(np.mod((self.a * x + self.b), self.p), self.N)\n",
    "        \n",
    "primes = generate_prime_numbers(M, N)\n",
    "hash_functions = [Hash(M, N, p) for p in primes]"
   ]
  },
  {
   "cell_type": "code",
   "execution_count": 19,
   "metadata": {
    "ExecuteTime": {
     "end_time": "2020-04-12T14:16:11.808707Z",
     "start_time": "2020-04-12T14:16:11.798073Z"
    }
   },
   "outputs": [],
   "source": [
    "def min_hash(doc_to_shingles, hash_functions):\n",
    "    ###########################################################################################\n",
    "    # Programming 2.3 [20pt]                                                                  #                                    \n",
    "    #   Implement the min-hash algorithm to create the signatures for the documents           #\n",
    "    #   It would take about ~10 minutes to finish computation,                                #\n",
    "    #      while would take ~20 seconds if you parallelize your hash functions                #                      \n",
    "    #                                                                                         #\n",
    "    #  Parameters                                                                             #\n",
    "    #     doc_to_shingles: (dict) dictionary that maps each document to the list of shingles  #\n",
    "    #     hash_functions: [list] list of hash functions                                       #\n",
    "    #  Returns                                                                                #\n",
    "    #     signatures (np.array) numpy array of size (M, C) where C is the number of documents #\n",
    "    #                                                                                         #\n",
    "    ###########################################################################################\n",
    "    \n",
    "    C = len(doc_to_shingles)\n",
    "    M = len(hash_functions)\n",
    "    signatures = np.array(np.ones((M, C)) * np.inf, dtype=np.int)\n",
    "    \n",
    "    for doc, shingles in doc_to_shingles.items():\n",
    "        signatures[:, doc] = [np.min(hash_func(np.array(shingles))) for hash_func in hash_functions]\n",
    "\n",
    "    return signatures"
   ]
  },
  {
   "cell_type": "code",
   "execution_count": 20,
   "metadata": {
    "ExecuteTime": {
     "end_time": "2020-04-12T14:16:16.499541Z",
     "start_time": "2020-04-12T14:16:16.493969Z"
    }
   },
   "outputs": [],
   "source": [
    "def compare(signatures, doc_to_shingles, trials = 10000):\n",
    "    M, C = signatures.shape\n",
    "    diff_list = []\n",
    "    \n",
    "    for t in tqdm(range(trials)):\n",
    "        doc1, doc2 = np.random.choice(C, 2, replace = False)\n",
    "        \n",
    "        shingle1, shingle2 = set(doc_to_shingles[doc1]), set(doc_to_shingles[doc2])\n",
    "        sig1, sig2 = signatures[:,doc1], signatures[:,doc2]\n",
    "        \n",
    "        true_sim = jaccard_similarity(shingle1, shingle2)\n",
    "        approx_sim = sum(np.equal(sig1, sig2)) / M\n",
    "        \n",
    "        diff_list.append(abs(true_sim - approx_sim))\n",
    "        \n",
    "    return diff_list"
   ]
  },
  {
   "cell_type": "code",
   "execution_count": 21,
   "metadata": {
    "ExecuteTime": {
     "end_time": "2020-04-12T14:16:58.676538Z",
     "start_time": "2020-04-12T14:16:25.460359Z"
    }
   },
   "outputs": [
    {
     "name": "stderr",
     "output_type": "stream",
     "text": [
      "100%|██████████| 10000/10000 [00:04<00:00, 2037.97it/s]"
     ]
    },
    {
     "name": "stdout",
     "output_type": "stream",
     "text": [
      "Test passed\n"
     ]
    },
    {
     "name": "stderr",
     "output_type": "stream",
     "text": [
      "\n"
     ]
    }
   ],
   "source": [
    "start = time.time()\n",
    "signatures = min_hash(doc_to_shingles, hash_functions)\n",
    "end = time.time()\n",
    "\n",
    "diff_list = compare(signatures, doc_to_shingles)\n",
    "\n",
    "# Check whether your implementation is correct [20pt]\n",
    "# Average difference of document's jaccard similarity between characteristic matrix and signatures should be at most 1%\n",
    "# With 10 random seeds, difference was around 1e-5 ~ 1e-6%\n",
    "if np.mean(diff_list) < 0.01:\n",
    "    pass_test2_2 = True\n",
    "    print('Test passed')"
   ]
  },
  {
   "cell_type": "markdown",
   "metadata": {},
   "source": [
    "#### 2.4 Qualitive Analysis"
   ]
  },
  {
   "cell_type": "code",
   "execution_count": 22,
   "metadata": {
    "ExecuteTime": {
     "end_time": "2020-04-12T14:17:05.793121Z",
     "start_time": "2020-04-12T14:17:05.779915Z"
    }
   },
   "outputs": [
    {
     "name": "stdout",
     "output_type": "stream",
     "text": [
      "Document 3542\n",
      "i have one complaint for the cameramen doing the jerseypitt series show the shots not the hits on more than one occassion the camera zoomed in on a check along the boards while the puck was in the slot they panned back to show the rebound maybe moms camera people were a little more experienced\n",
      "-------------\n",
      "Document 8033\n",
      "i have one complaint for the cameramen doing the jerseypitt series show the shots not the hits on more than one occassion the camera zoomed in on a check along the boards while the puck was in the slot they panned back to show the rebound maybe moms camera people were a little more experienced joseph stiehm exactly that is my biggest complaint about the coverage so far follow that damn puck ravi shah\n",
      "-------------\n",
      "true jaccard similarity: 0.7285714285714285\n",
      "approx jaccard similarity: 0.72\n",
      "Do you think signature well reflects the characteristic matrix?\n"
     ]
    }
   ],
   "source": [
    "print('Document 3542')\n",
    "print(documents[3542])\n",
    "print('-------------')\n",
    "print('Document 8033')\n",
    "print(documents[8033])\n",
    "print('-------------')\n",
    "\n",
    "print('true jaccard similarity:'  ,jaccard_similarity(set(doc_to_shingles[3542]), set(doc_to_shingles[8033])))\n",
    "print('approx jaccard similarity:',sum(np.equal(signatures[:,3542], signatures[:,8033])) / M)\n",
    "print('Do you think signature well reflects the characteristic matrix?')"
   ]
  },
  {
   "cell_type": "markdown",
   "metadata": {},
   "source": [
    "### 3. Locality Sensitive Hashing"
   ]
  },
  {
   "cell_type": "code",
   "execution_count": null,
   "metadata": {},
   "outputs": [],
   "source": [
    "########################################################################################################################\n",
    "# Programming 3  [35pt]                                                                                                #\n",
    "#  In this section, you will implement the Min-Hash based Locality Sensitive Hashing algorithm to convert signatures   #\n",
    "#  into the similar document pair candidates                                                                           #\n",
    "#  Finally, we will test our results based on the precision, recall and F1 score                                       #\n",
    "#                                                                                                                      #\n",
    "#   1) get the similar document pair candidates [20pt]                                                                 #\n",
    "#   2) calculate precision, recall, and f1 score [10pt]                                                                #\n",
    "#                                                                                                                      #\n",
    "########################################################################################################################"
   ]
  },
  {
   "cell_type": "markdown",
   "metadata": {},
   "source": [
    "#### 3.1 Min-Hash based LSH"
   ]
  },
  {
   "cell_type": "code",
   "execution_count": 53,
   "metadata": {
    "ExecuteTime": {
     "end_time": "2020-04-12T15:18:05.970320Z",
     "start_time": "2020-04-12T15:18:05.963987Z"
    }
   },
   "outputs": [],
   "source": [
    "def lsh(signatures, b, r):\n",
    "    #########################################################################################################\n",
    "    # Programming 3.1 [20pt]                                                                                #\n",
    "    #   Implement the min-hash based LSH algorithm to find the candidate pairs of the similar documents.    #\n",
    "    #   In the implementation, use python's dictionary to make your hash table,                             #\n",
    "    #    where each column is hashedinto a bucket.                                                          #\n",
    "    #   Convert each column vector (within a band) into the tuple and use it as a key of the dictionary.    #\n",
    "    #                                                                                                       #\n",
    "    #  Parameters                                                                                           #\n",
    "    #     signatures: (np.array) numpy array of size (M, C) where                                           #\n",
    "    #                M is the number of min-hash functions, C is the number of documents                    #\n",
    "    #     b: (int) the number of bands                                                                      #\n",
    "    #     r: (int) the number of rows per each band                                                         #\n",
    "    #                                                                                                       #\n",
    "    #  Requirements                                                                                         #\n",
    "    #     1) M should be equivalent to b * r                                                                #\n",
    "    #                                                                                                       #\n",
    "    #  Returns                                                                                              #\n",
    "    #     candidatePairs (Set[Tuple[int, int]]) set of the pairs of indexes of candidate document pairs     #\n",
    "    #                                                                                                       #\n",
    "    #########################################################################################################\n",
    "    M = signatures.shape[0]  # The number of min-hash functions\n",
    "    C = signatures.shape[1]  # The number of documents\n",
    "\n",
    "    assert M == b * r\n",
    "\n",
    "    candidatePairs = set()\n",
    "    \n",
    "    # TODO: Write down your code here\n",
    "    # For each band, create a hash table to put similar documents into a same bucket.\n",
    "    for i in range(0, M, r):\n",
    "        hash_table = defaultdict(list)\n",
    "        # hash portions of columns into buckets\n",
    "        for j in range(C):\n",
    "            # if the bucket's not empty, add them as candidate pairs\n",
    "            if len(hash_table[tuple(signatures[i:i+r, j])]) > 0:\n",
    "                for similar_doc in hash_table[tuple(signatures[i:i+r, j])]:\n",
    "                    candidatePairs.add((j, similar_doc))\n",
    "            hash_table[tuple(signatures[i:i+r, j])].append(j)\n",
    "    \n",
    "    ### Implementation End ###\n",
    "    return candidatePairs"
   ]
  },
  {
   "cell_type": "code",
   "execution_count": 54,
   "metadata": {
    "ExecuteTime": {
     "end_time": "2020-04-12T15:18:11.537119Z",
     "start_time": "2020-04-12T15:18:10.589046Z"
    }
   },
   "outputs": [
    {
     "name": "stdout",
     "output_type": "stream",
     "text": [
      "b=10\n",
      "# of candidate pairs = 154\n",
      "0th sample pair: (10111, 4444)\n",
      "Jaccard similarity: 0.9279061745429459\n",
      "-------------\n",
      "we have received a number of requests for a reposting of the international obfuscated c code contest rules and guidelines also some people requested that these rules be posted to a wider set of groups sorry for the cross posting some technical clarifications were made to the rules and guidelines see the diff marks at the right hand edge the rules and guidelines for this year remain the same so people who have already or are in the process of submitting entries for the ioccc need not worry about these changes chongo curt chongotoadcom larry bassel labsuncom binsh this is a shell archive shar made utc by chongotoadcom source directory tmp existing files will be overwritten this shar contains length mode name rrr rules rrr guidelines rrr mkentryc rrr obfuscateinfo rules echo x extracting rules text sed rules international obfuscated c code contest rules x xcopyright c landon curt noll larry bassel xall rights reserved permission for personal education or nonprofit use is xgranted provided this this copyright and notice are included in its entirety xand remains unaltered all other uses must receive prior permission in writing xfrom both landon curt noll and larry bassel x x obfuscate trv cated cating cates a to render obscure x b to darken to confuse his emotions obfuscated his x judgment obfuscare to darken obintensive x lat fuscare to darken fuscus obfuscation n x obfuscatory adj x x xgoals of the contest x x to write the most obscureobfuscated c program under the rules below x to show the importance of programming style in an ironic way x to stress c compilers with unusual code x to illustrate some of the subtleties of the c language x to provide a safe forum for poor c code x x xnote changes from the draft are noted by change bars x x xrules x x to help us with the volume of entries we ask that you follow these rules x x your entry must be a complete program x x your entry must be bytes in length the number of characters x excluding whitespace tab space newline and excluding any or x followed by either whitespace or end of file must be x x your entry must be submitted in the following format x xentry xrule xfix y or n n this is a new entry y this replaces an older entry xtitle title of entry see comments below xentry entry number from to inclusive your entry should by xdate datetime of submission in utc see comments below xhost machines and oss under which your entry was tested x use tab indented lines if needed xremark x place remarks about this entry in this section it would be helpful if x you were to indent your remarks with spaces though it is not a x requirement also if possible try to avoid going beyond the x column blank lines are permitted xauthor xname your name xorg schoolcompanyorganization xaddr postal address x use tab indented lines to continue x dont forget to include the country xemail email address from a well known site or registered domain x if you give several forms list them on separate tab indented lines xanon y or n y remain anonymous n ok to publish this info xinfo xif your program needs an info file place a uuencoded copy of it in xthis section in the case of multiple info files use multiple info xsections if your entry does not need a info file skip this section xbuild xplace a uuencoded copy of the commands used to compilebuild your program xin this section it must uudecode into a file named build the resulting xfile must be bytes or less xprogram xplace a uuencoded copy of your program in this section it must uudecode xinto a file named is progc the resulting file must follow rule xend x x regarding the above format x x the title must match the expression x and must be to characters in length x x it is suggested but not required that the title should x incorporate your username in the case of multiple authors x consider using parts of the usernames of the authors x x the date in the entry section should be given with respect x to utc the format of the date should be as returned by asctime x using the c locale see guidelines for more info x x you may correctrevise a previously submitted entry by sending x it to the contest email address be sure to set fix in the x entry section to n the corrected entry must use the same x title and entry number as submittion that is being corrected be x sure that you note the resubmittion in the remark as well x x with the exception of the header all text outside of the above x format may be ignored by the judges if you need tell the judges x something put it in the remark section or send a separate x email message to the judges x x information from the author section will be published unless x y was given to the respective authors anon line x x to credit multiple authors include an author section for x each author each should start with author line and x should be found between the entry and build sections x x the entrys remarks should include x what this program does x how to run the program sample args or input x special compile or execution instructions if any x special filename requirements see rule and x information about any data files x why you think the program is obfuscated x note if this entry is a resubmission of a previous entry x any other remarks humorous or otherwise x x do not your entrys remarks you may suggest that certain x portions of your remarks be if your entry wins an award x x info files should be used only to supplement your entry they x should not be required to exist x x if your entry does not need an info file skip the info x section if your entry needs multiple info files use multiple x info sections one per info file you should describe x each info file in the remark section x x if your entry is selected as a winner it will be modified as follows x x build is incorporated into a makefile and build is removed x progc is renamed to your entrys title followed by an optional x digit followed by c x your entry is compiled into a file with the name of your entrys x title possibly followed by a digit x x if your entry requires that a build file exist state so in your x entrys remark section the makefile will be arranged to execute a x build shell script containing the build information the name of x this build shell script will be your entrys title possibly followed x by a digit followed by sh x x if needed your entrys remarks should indicate how your entry must x be changed in order to deal with the new filenames x x the build file the source and the resulting executable should be x treated as readonly files if your entry needs to modify these files x it should make and modify a copy of the appropriate file if this x occurs state so in your entrys remarks x x entries that cannot be compiled by an ansi c compiler will be rejected x use of common c extensions is permitted as long as it does not x cause compile errors for ansi c compilers x x the program must be of original work all programs must be in the x public domain all copyrighted programs will be rejected x x entries must be received prior to utc utc is x essentially equivalent to greenwich mean time email your entries to x x applepyramidsunuunethoptoadobfuscate x obfuscatetoadcom x x we request that your message use the subject ioccc entry x x if possible we request that you hold off on emailing your entries x until utc early entries will be accepted however x we will attempt to email a confirmation to the the first author for x all entries received after utc x x each person may submit up to entries per contest year each entry x must be sent in a separate email letter x x entries requiring human interaction to be built are not allowed x compiling an entry produce a file or files which may be executed x x programs that require special privileges setuid setgid superuser x special owner or group are not allowed x x xfor more information x x the judging will be done by landon noll and larry bassel please send x questions or comments about the contest to x x applepyramidsunuunethoptoadjudges not the address for x judgestoadcom submitting entries x x the rules and the guidelines may and often do change from year to x year you should be sure you have the current rules and guidelines x prior to submitting entries to obtain them send email to the address x above and use the subject send rules x x one may obtain winners of previous contests to date via ftp from x x host ftpuunet x user anonymous x pass yournameyourhost x dir x x as a last resort previous winners may be obtained by sending email x to the above address please use the subject send year winners x where year is a single digit year a year range or all x x xchongo curt chongotoadcom xlarry bassel labsuncom chmod rules echo restore of rules failed set c if test then echo original size current size fi guidelines echo x extracting guidelines text sed guidelines international obfuscated c code contest guidelines hints and comments x xcopyright c landon curt noll larry bassel xall rights reserved permission for personal education or nonprofit use is xgranted provided this this copyright and notice are included in its entirety xand remains unaltered all other uses must receive prior permission in writing xfrom both landon curt noll and larry bassel x xabout this file x x this file is intended to help people who wish to submit entries to x the international obfuscated c code contest ioccc for short x x this is not the ioccc rules though it does contain comments about x them the guidelines should be viewed as hints and suggestions x entries that violate the guidelines but remain within the rules are x allowed even so you are safer if you remain within the guidelines x x you should read the current ioccc rules prior to submitting entries x the rules are typically sent out with these guidelines x x changes from the draft are noted by change bars x x xwhat is new in x x the entry format is better for us anyway the program mkentryc x has been updated see entry format x x we will reject entries that cannot be compiled using an ansi c x compiler certain old obfuscation hacks that cause ansi c compilers x fits are no longer permitted some of the new issues deal with x nonintegral array types variable number of arguments c preprocessor x directives and the exit function see our likes and dislikes x x xhints and suggestions x x you are encouraged to examine the winners of previous contests see x for more information for details on how to get previous winners x x keep in mind that rules change from year to year so some winning entries x may not be valid entries this year what was unique and novel one year x might be old the next year x x an entry is usually examined in a number of ways we typically apply x a number of tests to an entry x x look at the original source x convert ansi trigraphs to ascii x c preprocess the source ignoring include lines x c preprocess the source ignoring define and include lines x run it through a c beautifier x examine the algorithm x lint it x compile it x execute it x x you should consider how your entry looks in each of the above tests x you should ask yourself if your entry remains obscure after it has been x cleaned up by the c preprocessor and a c beautifier x x your entry need not do well under all or in most tests in certain x cases a test is not important entries that compete for the x strangestmost creative source layout need not do as well as x others in terms of their algorithm on the other hand given x two such entries we are more inclined to pick the entry that x does something interesting when you run it x x we try to avoid limiting creativity in our rules as such we leave x the contest open for creative rule interpretation as in real life x programming interpreting a requirements document or a customer request x is important for this reason we often award worst abuse of the x rules to an entry that illustrates this point in an ironic way x x if you do plan to abuse the rules we suggest that you let us know x in the remarks section please note that an invitation to abuse x is not an invitation to break we are strict when it comes to the x byte size limit also abusing the entry format tends to x annoy more than amuse x x we do realize that there are holes in the rules and invite entries x to attempt to exploit them we will award worst abuse of the rules x and then plug the hole next year even so we will attempt to use x the smallest plug needed if not smaller x x check out your program and be sure that it works we sometimes make x the effort to debug an entry that has a slight problem particularly x in or near the final round on the other hand we have seen some x of the best entries fall down because they didnt work x x we tend to look down on a prime number printer that claims that x is a prime number if you do have a bug you are better off x documenting it noting this entry sometimes prints the power x of a prime by mistake would save the above entry and sometimes x a strange bugfeature can even help the entry of course a correctly x working entry is best x x xour likes and dislikes x x doing masses of defines to obscure the source has become old we x tend to see thru masses of defines due to our preprocessor tests x that we apply simply abusing defines or wont go as far x as a program that is more well rounded in confusion x x many ansi c compilers dislike the following code and so do we x x define d define x d foo dont expect this to turn into define foo x x int i x j dont use such implicit type declaration x int k x x we suggest that you compile your entry with an ansi c compiler if you x must use nonansi c such as c you must avoid areas that result in x compilelink errors for ansi c compilers x x unfortunately some ansi c compilers require array indexes to be of x integral type thus the following classical obfuscation hacks should x not be used in this rule may be relaxed in future contests x x int i x char x use instead x use instead x x if your entry uses functions that have a variable number of x arguments be careful systems implement as a wide variety x of ways because of this a number of operations using are x not portable and must not be used x x assigning a variable tofrom a variable x casting a variable intofrom a variable x passing a variable to a function expecting a arg x passing a variable to a function expecting a arg x performing arithmetic on variables x using as a structure or union x x in particular do not treat variables as if they were a char x x avoid using use instead x x if you use c preprocessor directives define if ifdef x the leading must be the first character on a line while some x c preprocessors allow whitespace the leading many do not x x because the exit function returns void on some systems entries x must not assume that it returns an int x x small programs are best when they are short obscure and concise x while such programs are not as complex as other winners they do x serve a useful purpose they are often the only program that people x attempt to completely understand for this reason we look for x programs that are compact and are instructional x x one line programs should be short one line programs say around x bytes long getting close to bytes is a bit too long in our opinion x x we tend to dislike programs that x x are very hardware specific x are very os or version specific x indexstrchr differences are ok but socketstreams specific x code is likely not to be x dump core or have compiler warnings x it is ok only if you warn us in the remark header item x wont compile under both bsd or sys v x abusing the build file to get around the size limit x obfuscate by excessive use of ansi trigraphs x are longer than they need to be x are similar to previous winners x are identical to previous losers x x unless you are cramped for space or unless you are entering the x best one liner category we suggest that you format your program x in a more creative way than simply forming excessively long lines x x the build file should not be used to try and get around the size x limit it is one thing to make use of a several ds to help out x but it is quite another to use bytes of ds in order to x try and squeeze the source under the size limit you should feel x free to make use of the build file space but you are better off x if you show some amount of restraint x x we allowed whitespace and in certain cases or do not impact x your program size up to a certain point because we want to get x away from source that is simply a compact blob of characters x x given two versions of the same program one that is a compact blob x of code and the other that is formatted more like a typical c x program we tend to favor the second version of course a third x version of the same program that is formatted in an interesting x andor obfuscated way would definitely win over the first two x x we suggest that you avoid trying for the smallest selfreplicating x program we are amazed at the many different sizes that claim x to be the smallest there is nothing wrong with selfreplicating x programs in fact a number of winners have been selfreplicating x you might want to avoid the claim of smallest lest we or others x know of a smaller one x x x client entries should be as portable as possible entries that x adapt to a wide collection of environments will be favored dont x depend on a particular type of display for example dont depend x on color or a given size dont require backing store x x x client entries should avoid using x related libraries and x software that is not in wide spread use we ask that such x client x entries restrict themselves to only the low level xlib and the x athena widget set libxawa libxmua and libxta x dont use or toolkits since not everyone x has them avoid depending on a particular window manager not x everyone has and some people are stuck back in or x earlier so try to target without requiring better x yet try to make your entry run on all version x window systems x x x client entries should not to depend on particular items on x xdefaults if you must do so be sure to note the required lines x in the remark section x x we like programs that x x are as concise and small as they need to be x do something at least quasiinteresting x pass lint without complaint not a requirement but it is nice x are portable x are unique or novel in their obfuscation style x make use of a number of different types of obfuscation x make us laugh andor throw up x x some types of programs cant excel in some areas of course your x program doesnt have to excel in all areas but doing well in several x areas really does help x x we freely admit that interesting creative or humorous comments in x the remark section helps your chance of winning if you had to x read of many twisted entries you too would enjoy a good laugh or two x we think the readers of the contest winners do as well x x be creative x x xentry format x x in order to help us process the many entries we must request your x assistance by formatting your entries in a certain way this format x in addition allows us to quickly separate information about the x author from the program itself see judging process x x we have provided the program mkentry as an example of how to x format entries you should be aware of the following warning that x is found in mkentryc x x this program attempts to implement the ioccc rules every x attempt has been made to make sure that this program produces x an entry that conforms to the contest rules in all cases x where this program differs from the contest rules the x contest rules will be used be sure to check with the x contest rules before submitting an entry x x you are not required to use mkentry it is convenient however x as it attempts to uuencode the needed files and attempt to check x the entry against the size rules x x if you have any suggestions comments fixes or complaints about x the mkentryc program please send email to the judges see below x x the following is a sample entry x xentry xrule xfix n xtitle chonglab xentry xdate mon mar xhost x xremark x this is a nonobfuscated obfuscated c program x x it is likely not to win a prize but what do you expect from x a short example xauthor xname landon curt noll xorg ioccc judging group xaddr toad hall x po box x san francisco california x x usa xemail chongotoadcom xanon n xauthor xname larry bassel xorg ioccc judging group xaddr toad hall x po box x san francisco california x x usa xemail hoptoadsunlab x labsuncom xanon n xinfo xbegin infofile xend xbuild xbegin build xend xprogram xbegin progc xend xend x x typically the build file should assume that the source is progc x and will compile into prog if an entry wins we will rename x its source and binary to avoid filename collision by tradition x we use the name of the entrys title followed by an optional x digit in case of name conflicts x x if the above entry somehow won the least likely to win award x we would use chonglabc and chonglab x x if your entry depends on or requires that your build source x andor binary files be a particular name please say so in the x remark section if this case applies it would be be helpful x if you did one of the following x x tell us how to change the filenames in your entry x x have the build file make copies of the files for example x x cc progc o need special binary x x or rm f need special source x cp progc x cc o x x or rm f need special build x tail build x sh x x assume that we will use the entry title send us a version of x your buildprogram files that uses the name convention you x should uuencode these files in data sections x x if your entry needs to modify its source info or binary files x please say so in the remark section you should try to avoid x touching your original build source and binary files you should x arrange to make copies of the files you intend to modify this x will allow people to regenerate your entry from scratch x x remember that your entry may be built without a build file we x typically incorporate the build lines into a makefile if the x build file must exist say so in the remark section x x if your entry needs special info files you should uuencode them x into info sections in the case of multiple info files x use multiple info sections if no info files are needed x then skip the info section x x info files are intended to be input or detailed information that x does not fit well into the remark section for example an x entry that implements a compiler might want to provide some sample x programs for the user to compile an entry might want to include a x lengthy design document that might not be appropriate for a x hints file x x info files should be used only to supplement your entry for x example info files may provide sample input or detailed x information about your entry because they are supplemental x the entry should not require them exist x x in some cases your info files might be renamed to avoid name x conflicts if info files should not be renamed for some reason x say so in the remark section x x info files must uudecode into the current directory if they x absolutely must be renamed or moved into a subdirectory say x so in the remark section x x when submitting multiple entries be sure that each entry has x a unique entry number from to your first entry should x have entry number x x with the exception of the header all text outside of the entry x format may be ignored that is dont place text outside of the x entry and expect the judges to see it our decoding tools arent x ai progs if you need tell the the something put it in the x remark section or send a email to the judges at x x applepyramidsunuunethoptoadjudges not the address for x judgestoadcom submitting entries x x the date should be given with respect to utc some systems refer x to this as gmt or the format of the date should be that as x returned by asctime in the c locale an example of such a string is x x thr apr x x this format is similar to the output of the command the x string does not include the timezone name before the year on many x systems one of the following command will produce a similar string x x date u h d t x date u sed e s x sh c date sed e s x sh c date sed e s x sh c date sed e s x x you are allowed to updatefixrevise your entry to do so set x the fix line in the entry section to y instead of n x be sure that the resubmittion uses the same title and entry number x as well as these are used to determine which entry is to be x replaced x x xjudging process x x entries are judged by larry bassel and landon curt noll x x entries are unpacked into individual directories the email message x is unpacked into individual files each containing x x entry section x all author sections x all info sections x build section x program section x any other text including the email message headers x x prior to judging the any other text file is scanned to be sure x it does not contain useful information or in case the entry was x malformed and did not unpack correctly information from the x author sections are not read until the judging process is x complete and then only from entries that have won an award x x the above process helps keep us biased foragainst any one particular x individual we are usually kept in the dark as much as you are x until the final awards are given we like the surprise of finding x out in the end who won and where they were from x x we attempt to keep all entries anonymous unless they win an award x because the main prize of winning is being announced we make all x attempts to send nonwinners into oblivion we remove all nonwinning x files and shred all related paper by tradition we do not even x reveal the number of entries that we received for the curious x we do indicate the volume of paper consumed when presenting the ioccc x winners at talks x x after the usenix announcement we attempt to send email to the x authors of the winning entries one reason we do this is to give x the authors a chance to comment on the way we have presented their x entry they are given the chance to correct mistakes typos we x often accept their suggestionscomments about our remarks as well x this is done prior to posting the winners to the wide world x x judging consists of a number of elimination rounds during a round x the collection of entries are divided into two roughly equal piles x the pile that advances on to the next round and the pile that does x not we also reexamine the entries that were eliminated in the x previous round thus an entry gets at least two readings x x a reading consists of a number of actions x x reading the entry section x reading the uudecoded build section x reading the uudecoded program section x reading the uudecoded info sections if any x passing the source thru the c preprocessor x shipping over any include files x performing a number of c beautifycleanup edits on the source x passing the beautified source thru the c preprocessor x shipping over any include files x x in later rounds other actions are performed x x linting the source x compilingbuilding the source x running the program x performing misc tests on the source and binary x x until we reduce the stack of entries down to about entries entries x are judged on an individual basis an entry is set aside because it x does not in our opinion meet the standard established by the round x when the number of entries thins to about entries we begin to form x award categories entries begin to compete with each other for awards x an entry often will compete in several categories x x the actual award category list will vary depending on the types of entries x we receive a typical category list might be x x best small one line program x best small program x strangestmost creative source layout x most useful obfuscated program x best game that is obfuscated x most creatively obfuscated program x most deceptive c code x best x client see our likes and dislikes x best abuse of ansi c x worst abuse of the rules x else so strange that it deserves an x x we do not limit ourselves to this list for example a few entries are so x goodbad that they are declared winners at the start of the final round x we will invent awards categories for them if necessary x x in the final round process we perform the difficult tasks of x reducing the remaining entries typically about down to or x winners often we are confident that the entries that make it into x the final round are definitely better than the ones that do not x make it the selection of the winners out of the final round is x less clear cut x x sometimes a final round entry good enough to win but is beat out x by a similar but slightly better entry for this reason it is x sometimes worthwhile to reenter an improved version of an entry x that failed to win in a previous year this assumes of course x that the entry is worth improving in the first place x x more often that not we select a small entry usually one line a x strangecreative layout entry and an entry that abuses the contest x rules in some way x x in the end we traditionally pick one entry as best sometimes such x an entry simply far exceeds any of the other entry more often the x best is picked because it does well in a number of categories x x xannouncement of winners x x the first announcement occurs at a summer usenix conference by tradition x this is done during the latter part of the uunetioccc bof just prior to x the berkeley bsd and bsdi bof x x winning entries will be posted in late june to the following groups x x complangc compunixwizards altsources x x in addition pointers to these postings are posted to the following x x compsourcesd altsourcesd miscmisc x compsourcesmisc compwindowsx x x winning entries will be deposited into the uunet archives see x below for details x x often winning entries are published in selected magazines winners x have appeared in books the new hackers dictionary and on tshirts x x last but not least winners receive international fame and flames x x xfor more information x x you may contact the judges by sending email to the following address x x applepyramidsunuunethoptoadjudges not the address for x judgestoadcom submitting entries x x questions and comments about the contest are welcome x x the rules and the guidelines may and often do change from year to x year you should be sure you have the current rules and guidelines x prior to submitting entries to obtain them send email to the address x above and use the subject send rules x x one may obtain winners of previous contests to date via ftp from x x host ftpuunet x user anonymous x pass yournameyourhost x dir x x as a last resort previous winners may be obtained by sending email x to the above address please use the subject send year winners x where year is a single digit year a year range or all x x xchongo curt chongotoadcom xlarry bassel labsuncom chmod guidelines echo restore of guidelines failed set c if test then echo original size current size fi echo end of part continue with part exit\n",
      "-------------\n",
      "enclosed are the rules guidelines and related information for the international obfuscated c code contest this is part of a part shar file enjoy chongo curt larry bassel binsh this is a shell archive shar made utc by chongotoadcom source directory tmp existing files will be overwritten this shar contains length mode name rrr rules rrr guidelines rrr mkentryc rrr obfuscateinfo rules echo x extracting rules text sed rules international obfuscated c code contest rules x xcopyright c landon curt noll larry bassel xall rights reserved permission for personal education or nonprofit use is xgranted provided this this copyright and notice are included in its entirety xand remains unaltered all other uses must receive prior permission in writing xfrom both landon curt noll and larry bassel x x obfuscate trv cated cating cates a to render obscure x b to darken to confuse his emotions obfuscated his x judgment obfuscare to darken obintensive x lat fuscare to darken fuscus obfuscation n x obfuscatory adj x x xgoals of the contest x x to write the most obscureobfuscated c program under the rules below x to show the importance of programming style in an ironic way x to stress c compilers with unusual code x to illustrate some of the subtleties of the c language x to provide a safe forum for poor c code x x xrules x x to help us with the volume of entries we ask that you follow these rules x x your entry must be a complete program x x your entry must be bytes in length the number of characters x excluding whitespace tab space newline and excluding any or x followed by either whitespace or end of file must be x x your entry must be submitted in the following format x xentry xrule xfix y or n n this is a new entry y this replaces an older entry xtitle title of entry see comments below xentry entry number from to inclusive your entry should by xdate datetime of submission in utc see comments below xhost machines and oss under which your entry was tested x use tab indented lines if needed xremark x place remarks about this entry in this section it would be helpful if x you were to indent your remarks with spaces though it is not a x requirement also if possible try to avoid going beyond the x column blank lines are permitted xauthor xname your name xorg schoolcompanyorganization xaddr postal address x use tab indented lines to continue x dont forget to include the country xemail email address from a well known site or registered domain x if you give several forms list them on separate tab indented lines xanon y or n y remain anonymous n ok to publish this info xinfo xif your program needs an info file place a uuencoded copy of it in xthis section in the case of multiple info files use multiple info xsections if your entry does not need a info file skip this section xbuild xplace a uuencoded copy of the commands used to compilebuild your program xin this section it must uudecode into a file named build the resulting xfile must be bytes or less xprogram xplace a uuencoded copy of your program in this section it must uudecode xinto a file named is progc the resulting file must follow rule xend x x regarding the above format x x the title must match the expression x and must be to characters in length x x it is suggested but not required that the title should x incorporate your username in the case of multiple authors x consider using parts of the usernames of the authors x x the date in the entry section should be given with respect x to utc the format of the date should be as returned by asctime x using the c locale see guidelines for more info x x you may correctrevise a previously submitted entry by sending x it to the contest email address be sure to set fix in the x entry section to n the corrected entry must use the same x title and entry number as submittion that is being corrected be x sure that you note the resubmittion in the remark as well x x with the exception of the header all text outside of the above x format may be ignored by the judges if you need tell the judges x something put it in the remark section or send a separate x email message to the judges x x information from the author section will be published unless x y was given to the respective authors anon line x x to credit multiple authors include an author section for x each author each should start with author line and x should be found between the entry and build sections x x the entrys remarks should include x what this program does x how to run the program sample args or input x special compile or execution instructions if any x special filename requirements see rule and x information about any data files x why you think the program is obfuscated x note if this entry is a resubmission of a previous entry x any other remarks humorous or otherwise x x do not your entrys remarks you may suggest that certain x portions of your remarks be if your entry wins an award x x info files should be used only to supplement your entry they x should not be required to exist x x if your entry does not need an info file skip the info x section if your entry needs multiple info files use multiple x info sections one per info file you should describe x each info file in the remark section x x if your entry is selected as a winner it will be modified as follows x x build is incorporated into a makefile and build is removed x progc is renamed to your entrys title followed by an optional x digit followed by c x your entry is compiled into a file with the name of your entrys x title possibly followed by a digit x x if your entry requires that a build file exist state so in your x entrys remark section the makefile will be arranged to execute a x build shell script containing the build information the name of x this build shell script will be your entrys title possibly followed x by a digit followed by sh x x if needed your entrys remarks should indicate how your entry must x be changed in order to deal with the new filenames x x the build file the source and the resulting executable should be x treated as readonly files if your entry needs to modify these files x it should make and modify a copy of the appropriate file if this x occurs state so in your entrys remarks x x entries that cannot be compiled by an ansi c compiler will be rejected x use of common c extensions is permitted as long as it does not x cause compile errors for ansi c compilers x x the program must be of original work all programs must be in the x public domain all copyrighted programs will be rejected x x entries must be received prior to utc utc is x essentially equivalent to greenwich mean time email your entries to x x applepyramidsunuunethoptoadobfuscate x obfuscatetoadcom x x we request that your message use the subject ioccc entry x x if possible we request that you hold off on emailing your entries x until utc early entries will be accepted however x we will attempt to email a confirmation to the the first author for x all entries received after utc x x each person may submit up to entries per contest year each entry x must be sent in a separate email letter x x entries requiring human interaction to be built are not allowed x compiling an entry produce a file or files which may be executed x x programs that require special privileges setuid setgid superuser x special owner or group are not allowed x x xfor more information x x the judging will be done by landon noll and larry bassel please send x questions or comments but not entries about the contest to x x applepyramidsunuunethoptoadjudges x judgestoadcom x x the rules and the guidelines may and often do change from year to x year you should be sure you have the current rules and guidelines x prior to submitting entries to obtain all of them send email x to the address above and use the subject send rules x x one may also obtain them via anonymous ftp from x x host ftpuunet x user anonymous x pass yournameyourhost x dir pubioccc x x xchongo curt hoptoadchongo xlarry bassel chmod rules echo restore of rules failed set c if test then echo original size current size fi guidelines echo x extracting guidelines text sed guidelines international obfuscated c code contest guidelines hints and comments x xcopyright c landon curt noll larry bassel xall rights reserved permission for personal education or nonprofit use is xgranted provided this this copyright and notice are included in its entirety xand remains unaltered all other uses must receive prior permission in writing xfrom both landon curt noll and larry bassel x xabout this file x x this file is intended to help people who wish to submit entries to x the international obfuscated c code contest ioccc for short x x this is not the ioccc rules though it does contain comments about x them the guidelines should be viewed as hints and suggestions x entries that violate the guidelines but remain within the rules are x allowed even so you are safer if you remain within the guidelines x x you should read the current ioccc rules prior to submitting entries x the rules are typically sent out with these guidelines x x xwhat is new in x x the entry format is better for us anyway the program mkentryc x has been updated see entry format x x we will reject entries that cannot be compiled using an ansi c x compiler certain old obfuscation hacks that cause ansi c compilers x fits are no longer permitted some of the new issues deal with x nonintegral array types variable number of arguments c preprocessor x directives and the exit function see our likes and dislikes x x xhints and suggestions x x you are encouraged to examine the winners of previous contests see x for more information for details on how to get previous winners x x keep in mind that rules change from year to year so some winning entries x may not be valid entries this year what was unique and novel one year x might be old the next year x x an entry is usually examined in a number of ways we typically apply x a number of tests to an entry x x look at the original source x convert ansi trigraphs to ascii x c preprocess the source ignoring include lines x c preprocess the source ignoring define and include lines x run it through a c beautifier x examine the algorithm x lint it x compile it x execute it x x you should consider how your entry looks in each of the above tests x you should ask yourself if your entry remains obscure after it has been x cleaned up by the c preprocessor and a c beautifier x x your entry need not do well under all or in most tests in certain x cases a test is not important entries that compete for the x strangestmost creative source layout need not do as well as x others in terms of their algorithm on the other hand given x two such entries we are more inclined to pick the entry that x does something interesting when you run it x x we try to avoid limiting creativity in our rules as such we leave x the contest open for creative rule interpretation as in real life x programming interpreting a requirements document or a customer request x is important for this reason we often award worst abuse of the x rules to an entry that illustrates this point in an ironic way x x if you do plan to abuse the rules we suggest that you let us know x in the remarks section please note that an invitation to abuse x is not an invitation to break we are strict when it comes to the x byte size limit also abusing the entry format tends to x annoy more than amuse x x we do realize that there are holes in the rules and invite entries x to attempt to exploit them we will award worst abuse of the rules x and then plug the hole next year even so we will attempt to use x the smallest plug needed if not smaller x x check out your program and be sure that it works we sometimes make x the effort to debug an entry that has a slight problem particularly x in or near the final round on the other hand we have seen some x of the best entries fall down because they didnt work x x we tend to look down on a prime number printer that claims that x is a prime number if you do have a bug you are better off x documenting it noting this entry sometimes prints the power x of a prime by mistake would save the above entry and sometimes x a strange bugfeature can even help the entry of course a correctly x working entry is best x x xour likes and dislikes x x doing masses of defines to obscure the source has become old we x tend to see thru masses of defines due to our preprocessor tests x that we apply simply abusing defines or wont go as far x as a program that is more well rounded in confusion x x many ansi c compilers dislike the following code and so do we x x define d define x d foo dont expect this to turn into define foo x x int i x j dont use such implicit type declaration x int k x x we suggest that you compile your entry with an ansi c compiler if you x must use nonansi c such as c you must avoid areas that result in x compilelink errors for ansi c compilers x x unfortunately ansi c requires array indexes to be of integral type x thus the following classical obfuscation hacks are no longer allowed x x int i x char x use instead x use instead x x if your entry uses functions that have a variable number of x arguments be careful systems implement as a wide variety x of ways because of this a number of operations using are x not portable and must not be used x x assigning a variable tofrom a variable x casting a variable intofrom a variable x passing a variable to a function expecting a arg x passing a variable to a function expecting a arg x performing arithmetic on variables x using as a structure or union x x in particular do not treat variables as if they were a char x x avoid using use instead x x if you use c preprocessor directives define if ifdef x the leading must be the first character on a line while some x c preprocessors allow whitespace the leading many do not x x because the exit function returns void on some systems entries x must not assume that it returns an int x x small programs are best when they are short obscure and concise x while such programs are not as complex as other winners they do x serve a useful purpose they are often the only program that people x attempt to completely understand for this reason we look for x programs that are compact and are instructional x x one line programs should be short one line programs say around x bytes long getting close to bytes is a bit too long in our opinion x x we tend to dislike programs that x x are very hardware specific x are very os or version specific x indexstrchr differences are ok but socketstreams specific x code is likely not to be x dump core or have compiler warnings x it is ok only if you warn us in the remark header item x wont compile under both bsd or sys v x abusing the build file to get around the size limit x obfuscate by excessive use of ansi trigraphs x are longer than they need to be x are similar to previous winners x are identical to previous losers x x unless you are cramped for space or unless you are entering the x best one liner category we suggest that you format your program x in a more creative way than simply forming excessively long lines x x the build file should not be used to try and get around the size x limit it is one thing to make use of a several ds to help out x but it is quite another to use bytes of ds in order to x try and squeeze the source under the size limit you should feel x free to make use of the build file space but you are better off x if you show some amount of restraint x x we allowed whitespace and in certain cases or do not impact x your program size up to a certain point because we want to get x away from source that is simply a compact blob of characters x x given two versions of the same program one that is a compact blob x of code and the other that is formatted more like a typical c x program we tend to favor the second version of course a third x version of the same program that is formatted in an interesting x andor obfuscated way would definitely win over the first two x x we suggest that you avoid trying for the smallest selfreplicating x program we are amazed at the many different sizes that claim x to be the smallest there is nothing wrong with selfreplicating x programs in fact a number of winners have been selfreplicating x you might want to avoid the claim of smallest lest we or others x know of a smaller one x x x client entries should be as portable as possible entries that x adapt to a wide collection of environments will be favored dont x depend on a particular type of display for example dont depend x on color or a given size dont require backing store x x x client entries should avoid using x related libraries and x software that is not in wide spread use we ask that such x client x entries restrict themselves to only the low level xlib and the x athena widget set libxawa libxmua and libxta x dont use or toolkits since not everyone x has them avoid depending on a particular window manager not x everyone has and some people are stuck back in or x earlier so try to target without requiring better x yet try to make your entry run on all version x window systems x x x client entries should not to depend on particular items on x xdefaults if you must do so be sure to note the required lines x in the remark section x x we like programs that x x are as concise and small as they need to be x do something at least quasiinteresting x pass lint without complaint not a requirement but it is nice x are portable x are unique or novel in their obfuscation style x make use of a number of different types of obfuscation x make us laugh andor throw up x x some types of programs cant excel in some areas of course your x program doesnt have to excel in all areas but doing well in several x areas really does help x x we freely admit that interesting creative or humorous comments in x the remark section helps your chance of winning if you had to x read of many twisted entries you too would enjoy a good laugh or two x we think the readers of the contest winners do as well x x be creative x x xentry format x x in order to help us process the many entries we must request your x assistance by formatting your entries in a certain way this format x in addition allows us to quickly separate information about the x author from the program itself see judging process x x we have provided the program mkentry as an example of how to x format entries you should be aware of the following warning that x is found in mkentryc x x this program attempts to implement the ioccc rules every x attempt has been made to make sure that this program produces x an entry that conforms to the contest rules in all cases x where this program differs from the contest rules the x contest rules will be used be sure to check with the x contest rules before submitting an entry x x you are not required to use mkentry it is convenient however x as it attempts to uuencode the needed files and attempt to check x the entry against the size rules x x if you have any suggestions comments fixes or complaints about x the mkentryc program please send email to the judges see below x x the following is a sample entry x xentry xrule xfix n xtitle chonglab xentry xdate mon mar xhost x xremark x this is a nonobfuscated obfuscated c program x x it is likely not to win a prize but what do you expect from x a short example xauthor xname landon curt noll xorg ioccc judging group xaddr toad hall x po box x san francisco california x x usa xemail chongotoadcom xanon n xauthor xname larry bassel xorg ioccc judging group xaddr toad hall x po box x san francisco california x x usa xemail hoptoadsunlab x labsuncom xanon n xinfo xbegin infofile xend xbuild xbegin build xend xprogram xbegin progc xend xend x x typically the build file should assume that the source is progc x and will compile into prog if an entry wins we will rename x its source and binary to avoid filename collision by tradition x we use the name of the entrys title followed by an optional x digit in case of name conflicts x x if the above entry somehow won the least likely to win award x we would use chonglabc and chonglab x x if your entry depends on or requires that your build source x andor binary files be a particular name please say so in the x remark section if this case applies it would be be helpful x if you did one of the following x x tell us how to change the filenames in your entry x x have the build file make copies of the files for example x x cc progc o need special binary x x or rm f need special source x cp progc x cc o x x or rm f need special build x tail build x sh x x assume that we will use the entry title send us a version of x your buildprogram files that uses the name convention you x should uuencode these files in data sections x x if your entry needs to modify its source info or binary files x please say so in the remark section you should try to avoid x touching your original build source and binary files you should x arrange to make copies of the files you intend to modify this x will allow people to regenerate your entry from scratch x x remember that your entry may be built without a build file we x typically incorporate the build lines into a makefile if the x build file must exist say so in the remark section x x if your entry needs special info files you should uuencode them x into info sections in the case of multiple info files x use multiple info sections if no info files are needed x then skip the info section x x info files are intended to be input or detailed information that x does not fit well into the remark section for example an x entry that implements a compiler might want to provide some sample x programs for the user to compile an entry might want to include a x lengthy design document that might not be appropriate for a x hints file x x info files should be used only to supplement your entry for x example info files may provide sample input or detailed x information about your entry because they are supplemental x the entry should not require them exist x x in some cases your info files might be renamed to avoid name x conflicts if info files should not be renamed for some reason x say so in the remark section x x info files must uudecode into the current directory if they x absolutely must be renamed or moved into a subdirectory say x so in the remark section x x when submitting multiple entries be sure that each entry has x a unique entry number from to your first entry should x have entry number x x with the exception of the header all text outside of the entry x format may be ignored that is dont place text outside of the x entry and expect the judges to see it our decoding tools arent x ai progs if you need tell the the something put it in the x remark section or send a email to the judges at x x applepyramidsunuunethoptoadjudges not the address for x judgestoadcom submitting entries x x the date should be given with respect to utc some systems refer x to this as gmt or the format of the date should be that as x returned by asctime in the c locale an example of such a string is x x thr apr x x this format is similar to the output of the command the x string does not include the timezone name before the year on many x systems one of the following command will produce a similar string x x date u h d t x date u sed e s x sh c date sed e s x sh c date sed e s x sh c date sed e s x x you are allowed to updatefixrevise your entry to do so set x the fix line in the entry section to y instead of n x be sure that the resubmittion uses the same title and entry number x as well as these are used to determine which entry is to be x replaced x x xjudging process x x entries are judged by larry bassel and landon curt noll x x entries are unpacked into individual directories the email message x is unpacked into individual files each containing x x entry section x all author sections x all info sections x build section x program section x any other text including the email message headers x x prior to judging the any other text file is scanned to be sure x it does not contain useful information or in case the entry was x malformed and did not unpack correctly information from the x author sections are not read until the judging process is x complete and then only from entries that have won an award x x the above process helps keep us biased foragainst any one particular x individual we are usually kept in the dark as much as you are x until the final awards are given we like the surprise of finding x out in the end who won and where they were from x x we attempt to keep all entries anonymous unless they win an award x because the main prize of winning is being announced we make all x attempts to send nonwinners into oblivion we remove all nonwinning x files and shred all related paper by tradition we do not even x reveal the number of entries that we received for the curious x we do indicate the volume of paper consumed when presenting the ioccc x winners at talks x x after the usenix announcement we attempt to send email to the x authors of the winning entries one reason we do this is to give x the authors a chance to comment on the way we have presented their x entry they are given the chance to correct mistakes typos we x often accept their suggestionscomments about our remarks as well x this is done prior to posting the winners to the wide world x x judging consists of a number of elimination rounds during a round x the collection of entries are divided into two roughly equal piles x the pile that advances on to the next round and the pile that does x not we also reexamine the entries that were eliminated in the x previous round thus an entry gets at least two readings x x a reading consists of a number of actions x x reading the entry section x reading the uudecoded build section x reading the uudecoded program section x reading the uudecoded info sections if any x passing the source thru the c preprocessor x shipping over any include files x performing a number of c beautifycleanup edits on the source x passing the beautified source thru the c preprocessor x shipping over any include files x x in later rounds other actions are performed x x linting the source x compilingbuilding the source x running the program x performing misc tests on the source and binary x x until we reduce the stack of entries down to about entries entries x are judged on an individual basis an entry is set aside because it x does not in our opinion meet the standard established by the round x when the number of entries thins to about entries we begin to form x award categories entries begin to compete with each other for awards x an entry often will compete in several categories x x the actual award category list will vary depending on the types of entries x we receive a typical category list might be x x best small one line program x best small program x strangestmost creative source layout x most useful obfuscated program x best game that is obfuscated x most creatively obfuscated program x most deceptive c code x best x client see our likes and dislikes x best abuse of ansi c x worst abuse of the rules x else so strange that it deserves an x x we do not limit ourselves to this list for example a few entries are so x goodbad that they are declared winners at the start of the final round x we will invent awards categories for them if necessary x x in the final round process we perform the difficult tasks of x reducing the remaining entries typically about down to or x winners often we are confident that the entries that make it into x the final round are definitely better than the ones that do not x make it the selection of the winners out of the final round is x less clear cut x x sometimes a final round entry good enough to win but is beat out x by a similar but slightly better entry for this reason it is x sometimes worthwhile to reenter an improved version of an entry x that failed to win in a previous year this assumes of course x that the entry is worth improving in the first place x x more often that not we select a small entry usually one line a x strangecreative layout entry and an entry that abuses the contest x rules in some way x x in the end we traditionally pick one entry as best sometimes such x an entry simply far exceeds any of the other entry more often the x best is picked because it does well in a number of categories x x xannouncement of winners x x the first announcement occurs at a summer usenix conference by tradition x this is done during the latter part of the uunetioccc bof just prior to x the berkeley bsd and bsdi bof x x winning entries will be posted in late june to the following groups x x complangc compunixwizards altsources x x in addition pointers to these postings are posted to the following x x compsourcesd altsourcesd miscmisc x compsourcesmisc compwindowsx x x winning entries will be deposited into the uunet archives see x below for details x x often winning entries are published in selected magazines winners x have appeared in books the new hackers dictionary and on tshirts x x last but not least winners receive international fame and flames x x xfor more information x x you may contact the judges by sending email to the following address x x applepyramidsunuunethoptoadjudges not the address for x judgestoadcom submitting entries x x questions and comments about the contest are welcome x x one may obtain a copy of the current rules guidelines or mkentry x program to obtain all of them send email to the address above x and use the subject send rules x x one may also obtain the above items we well as winners of previous x contests via anonymous ftp from x x host ftpuunet x user anonymous x pass yournameyourhost x dir pubioccc x x often contest rules guidelines and winners are available from x archive sites check compsourcesunix archives for example x you may also request previous winners by email using the judges x email address though we ask that you do this as a last resort x x xchongo curt hoptoadchongo xlarry bassel chmod guidelines echo restore of guidelines failed set c if test then echo original size current size fi echo end of part continue with part exit\n",
      "-------------\n"
     ]
    }
   ],
   "source": [
    "# You can test your implementation here\n",
    "b = 10\n",
    "n = 0\n",
    "tmpPairs = list(lsh(signatures, b, M // b))\n",
    "print(f\"b={b}\")\n",
    "print(f\"# of candidate pairs = {len(tmpPairs)}\")\n",
    "samplePair = tmpPairs[n]\n",
    "shingle1, shingle2 = set(doc_to_shingles[samplePair[0]]), set(doc_to_shingles[samplePair[1]])\n",
    "print(f\"{n}th sample pair: {samplePair}\")\n",
    "print(f\"Jaccard similarity: {jaccard_similarity(shingle1, shingle2)}\")\n",
    "print('-------------')\n",
    "print(documents[samplePair[0]])\n",
    "print('-------------')\n",
    "print(documents[samplePair[1]])\n",
    "print('-------------')"
   ]
  },
  {
   "cell_type": "markdown",
   "metadata": {},
   "source": [
    "#### 3.2 Compute the precision, recall, and F1-score"
   ]
  },
  {
   "cell_type": "code",
   "execution_count": 55,
   "metadata": {
    "ExecuteTime": {
     "end_time": "2020-04-12T15:20:08.787690Z",
     "start_time": "2020-04-12T15:20:08.776039Z"
    }
   },
   "outputs": [
    {
     "name": "stdout",
     "output_type": "stream",
     "text": [
      "The number of condition positives: 151 when s=0.8\n"
     ]
    }
   ],
   "source": [
    "# Compute the number of condition positives, which is the number of every document pair whose Jaccard similarity is greater than or equal to the threshold\n",
    "\n",
    "s = 0.8  # similarity threshold for checking condition positives\n",
    "numConditionPositives = 151 # This is the computed result when s=0.8, but I gave it to you to save your time.\n",
    "\n",
    "computeConditionPositives = False # If you want to calculate it, then change it to True. It will take 30 minutes to compute.\n",
    "if computeConditionPositives:\n",
    "    numConditionPositives = 0\n",
    "\n",
    "    numDocs = len(documents)\n",
    "    for i in tqdm(range(numDocs)):\n",
    "        shingle1 = set(doc_to_shingles[i])\n",
    "\n",
    "        for j in range(i+1, numDocs):\n",
    "            shingle2 = set(doc_to_shingles[j])\n",
    "            true_sim = jaccard_similarity(shingle1, shingle2)\n",
    "            if true_sim >= s:\n",
    "                numConditionPositives += 1\n",
    "\n",
    "print(f\"The number of condition positives: {numConditionPositives} when s={s}\")"
   ]
  },
  {
   "cell_type": "code",
   "execution_count": 56,
   "metadata": {
    "ExecuteTime": {
     "end_time": "2020-04-12T16:09:23.493639Z",
     "start_time": "2020-04-12T16:09:23.479761Z"
    }
   },
   "outputs": [],
   "source": [
    "def query_analysis(signatures, b, s, numConditionPositives):\n",
    "    ###########################################################################################################\n",
    "    # Programming 3.2 [10pt]                                                                                  #\n",
    "    #   Calculate the query time, precision, recall, and F1 score for the given configuration                 #\n",
    "    #                                                                                                         #\n",
    "    #  Parameters                                                                                             #\n",
    "    #     signatures: (np.array) numpy array of size (M, C) where                                             #\n",
    "    #                M is the number of min-hash functions, C is the number of documents                      #\n",
    "    #     b: (int) the number of bands                                                                        #\n",
    "    #     s: (float) similarity threshold for checking condition positives                                    #\n",
    "    #     numConditionPositives: (int) the number of condition positives                                      #\n",
    "    #                                                                                                         #\n",
    "    #  Requirements                                                                                           #\n",
    "    #     1) b should be the divisor of M                                                                     #\n",
    "    #     2) 0 <= s <= 1                                                                                      #\n",
    "    #                                                                                                         #\n",
    "    #  Returns                                                                                                #\n",
    "    #     query time: (float) the execution time of the codes which find the similar document candidate pairs #\n",
    "    #     precision: (float)                                                                                  #\n",
    "    #     recall: (float)                                                                                     #\n",
    "    #     f1: (float) F1-Score                                                                                #\n",
    "    #                                                                                                         #\n",
    "    ###########################################################################################################\n",
    "    M = signatures.shape[0]  # The number of min-hash functions\n",
    "    assert M % b == 0\n",
    "\n",
    "    # TODO: Write down your code here\n",
    "    start = time.time()\n",
    "    candidate_pairs = lsh(signatures, b, M // b)\n",
    "    end = time.time()\n",
    "    query_time = end - start\n",
    "    \n",
    "    # calculate true positives\n",
    "    true_positives = 0\n",
    "    for doc1, doc2 in candidate_pairs:\n",
    "        true_sim = jaccard_similarity(set(doc_to_shingles[doc1]), set(doc_to_shingles[doc2]))\n",
    "        if true_sim >= s:\n",
    "            true_positives += 1\n",
    "            \n",
    "    # precision = TP/(TP+FP), recall = TP/(TP+FN)\n",
    "    precision = true_positives / len(candidate_pairs)\n",
    "    recall = true_positives / numConditionPositives\n",
    "    f1 = 2 * (recall * precision) / (recall + precision)\n",
    "    \n",
    "    ### Implementation End ###\n",
    "    return query_time, precision, recall, f1"
   ]
  },
  {
   "cell_type": "code",
   "execution_count": 57,
   "metadata": {
    "ExecuteTime": {
     "end_time": "2020-04-12T16:09:28.338081Z",
     "start_time": "2020-04-12T16:09:28.334805Z"
    }
   },
   "outputs": [],
   "source": [
    "# Return the list of every divisor of given integer\n",
    "def find_divisors(x):\n",
    "    divisors = list()\n",
    "    for i in range(1, x + 1):\n",
    "        if x % i == 0:\n",
    "            divisors.append(i)\n",
    "    return divisors"
   ]
  },
  {
   "cell_type": "code",
   "execution_count": 58,
   "metadata": {
    "ExecuteTime": {
     "end_time": "2020-04-12T16:10:00.877418Z",
     "start_time": "2020-04-12T16:09:33.196389Z"
    }
   },
   "outputs": [
    {
     "name": "stderr",
     "output_type": "stream",
     "text": [
      "100%|██████████| 9/9 [00:27<00:00,  3.07s/it]\n"
     ]
    }
   ],
   "source": [
    "b_list = find_divisors(M)\n",
    "\n",
    "query_time_list = list()\n",
    "precision_list = list()\n",
    "recall_list = list()\n",
    "f1_list = list()\n",
    "\n",
    "for b in tqdm(b_list):\n",
    "    query_time, precision, recall, f1 = query_analysis(signatures, b, s, numConditionPositives)\n",
    "    \n",
    "    query_time_list.append(query_time)\n",
    "    precision_list.append(precision)\n",
    "    recall_list.append(recall)\n",
    "    f1_list.append(f1)"
   ]
  },
  {
   "cell_type": "code",
   "execution_count": 59,
   "metadata": {
    "ExecuteTime": {
     "end_time": "2020-04-12T16:10:19.793167Z",
     "start_time": "2020-04-12T16:10:19.784656Z"
    }
   },
   "outputs": [
    {
     "name": "stdout",
     "output_type": "stream",
     "text": [
      "b:  [1, 2, 4, 5, 10, 20, 25, 50, 100]\n",
      "Query times:  [0.3681776523590088, 0.6989741325378418, 0.43462252616882324, 0.4780275821685791, 0.9083304405212402, 1.5732827186584473, 1.9949419498443604, 3.3847463130950928, 6.207712888717651]\n",
      "Precisions:  [1.0, 1.0, 1.0, 1.0, 0.948051948051948, 0.5571955719557196, 0.4136986301369863, 0.05113443955299695, 0.002687119621311884]\n",
      "Recalls:  [0.6490066225165563, 0.6754966887417219, 0.7549668874172185, 0.8013245033112583, 0.9668874172185431, 1.0, 1.0, 1.0, 1.0]\n",
      "F1 scores:  [0.7871485943775101, 0.8063241106719368, 0.8603773584905661, 0.8897058823529412, 0.957377049180328, 0.7156398104265402, 0.5852713178294574, 0.09729381443298969, 0.005359836720205875]\n"
     ]
    }
   ],
   "source": [
    "print(\"b: \", b_list)\n",
    "print(\"Query times: \", query_time_list)\n",
    "print(\"Precisions: \", precision_list)\n",
    "print(\"Recalls: \", recall_list)\n",
    "print(\"F1 scores: \", f1_list)"
   ]
  },
  {
   "cell_type": "code",
   "execution_count": 66,
   "metadata": {
    "ExecuteTime": {
     "end_time": "2020-04-12T16:29:33.565819Z",
     "start_time": "2020-04-12T16:29:30.962970Z"
    }
   },
   "outputs": [],
   "source": [
    "# this code is to make plots come out nicer in monokai theme\n",
    "# from jupyterthemes import jtplot\n",
    "# jtplot.style(theme='monokai', context='notebook', ticks=True, grid=False)"
   ]
  },
  {
   "cell_type": "code",
   "execution_count": 67,
   "metadata": {
    "ExecuteTime": {
     "end_time": "2020-04-12T16:29:38.289188Z",
     "start_time": "2020-04-12T16:29:38.158687Z"
    }
   },
   "outputs": [
    {
     "data": {
      "image/png": "[encoded data removed]",
      "text/plain": [
       "<Figure size 576x504 with 1 Axes>"
      ]
     },
     "metadata": {},
     "output_type": "display_data"
    }
   ],
   "source": [
    "plt.title(f\"Query time (s={s})\")\n",
    "plt.xlabel(\"b\")\n",
    "plt.ylabel(\"Query time [sec]\")\n",
    "plt.plot(b_list, query_time_list)\n",
    "plt.show()"
   ]
  },
  {
   "cell_type": "code",
   "execution_count": 68,
   "metadata": {
    "ExecuteTime": {
     "end_time": "2020-04-12T16:29:44.559355Z",
     "start_time": "2020-04-12T16:29:44.423744Z"
    }
   },
   "outputs": [
    {
     "data": {
      "image/png": "[encoded data removed]",
      "text/plain": [
       "<Figure size 576x504 with 1 Axes>"
      ]
     },
     "metadata": {},
     "output_type": "display_data"
    }
   ],
   "source": [
    "plt.title(f\"Precision (s={s})\")\n",
    "plt.xlabel(\"b\")\n",
    "plt.ylabel(\"Precision\")\n",
    "plt.plot(b_list, precision_list)\n",
    "plt.show()"
   ]
  },
  {
   "cell_type": "code",
   "execution_count": 69,
   "metadata": {
    "ExecuteTime": {
     "end_time": "2020-04-12T16:29:49.507859Z",
     "start_time": "2020-04-12T16:29:49.364672Z"
    }
   },
   "outputs": [
    {
     "data": {
      "image/png": "[encoded data removed]",
      "text/plain": [
       "<Figure size 576x504 with 1 Axes>"
      ]
     },
     "metadata": {},
     "output_type": "display_data"
    }
   ],
   "source": [
    "plt.title(f\"Recall (s={s})\")\n",
    "plt.xlabel(\"b\")\n",
    "plt.ylabel(\"Recall\")\n",
    "plt.plot(b_list, recall_list)\n",
    "plt.show()"
   ]
  },
  {
   "cell_type": "code",
   "execution_count": 70,
   "metadata": {
    "ExecuteTime": {
     "end_time": "2020-04-12T16:29:54.777997Z",
     "start_time": "2020-04-12T16:29:54.643888Z"
    }
   },
   "outputs": [
    {
     "data": {
      "image/png": "[encoded data removed]",
      "text/plain": [
       "<Figure size 576x504 with 1 Axes>"
      ]
     },
     "metadata": {},
     "output_type": "display_data"
    }
   ],
   "source": [
    "plt.title(f\"F1 Score (s={s})\")\n",
    "plt.xlabel(\"b\")\n",
    "plt.ylabel(\"F1 Score\")\n",
    "plt.plot(b_list, f1_list)\n",
    "plt.show()"
   ]
  },
  {
   "cell_type": "code",
   "execution_count": 64,
   "metadata": {
    "ExecuteTime": {
     "end_time": "2020-04-12T16:11:43.958030Z",
     "start_time": "2020-04-12T16:11:43.947719Z"
    }
   },
   "outputs": [
    {
     "name": "stdout",
     "output_type": "stream",
     "text": [
      "-----Test results-----\n",
      "[Test 1.1 (1)]: Passed\n",
      "[Test 1.1 (2)]: Passed\n",
      "[Test 1.2]: Passed\n",
      "[Test 2.1]: Passed\n",
      "[Test 2.2]: Passed\n",
      "----------------------\n"
     ]
    }
   ],
   "source": [
    "# Check whether the test passed\n",
    "test_msg = {True: \"Passed\", False: \"Failed\"}\n",
    "\n",
    "print(\"-----Test results-----\")\n",
    "print(f\"[Test 1.1 (1)]: {test_msg[pass_test1_1_1]}\")\n",
    "print(f\"[Test 1.1 (2)]: {test_msg[pass_test1_1_2]}\")\n",
    "print(f\"[Test 1.2]: {test_msg[pass_test1_2]}\")\n",
    "print(f\"[Test 2.1]: {test_msg[pass_test2_1]}\")\n",
    "print(f\"[Test 2.2]: {test_msg[pass_test2_2]}\")\n",
    "print(\"----------------------\")"
   ]
  },
  {
   "cell_type": "code",
   "execution_count": null,
   "metadata": {},
   "outputs": [],
   "source": []
  }
 ],
 "metadata": {
  "kernelspec": {
   "display_name": "Python 3",
   "language": "python",
   "name": "python3"
  },
  "language_info": {
   "codemirror_mode": {
    "name": "ipython",
    "version": 3
   },
   "file_extension": ".py",
   "mimetype": "text/x-python",
   "name": "python",
   "nbconvert_exporter": "python",
   "pygments_lexer": "ipython3",
   "version": "3.7.9"
  },
  "toc": {
   "base_numbering": 1,
   "nav_menu": {},
   "number_sections": true,
   "sideBar": true,
   "skip_h1_title": false,
   "title_cell": "Table of Contents",
   "title_sidebar": "Contents",
   "toc_cell": false,
   "toc_position": {
    "height": "calc(100% - 180px)",
    "left": "10px",
    "top": "150px",
    "width": "165px"
   },
   "toc_section_display": true,
   "toc_window_display": true
  },
  "varInspector": {
   "cols": {
    "lenName": 16,
    "lenType": 16,
    "lenVar": 40
   },
   "kernels_config": {
    "python": {
     "delete_cmd_postfix": "",
     "delete_cmd_prefix": "del ",
     "library": "var_list.py",
     "varRefreshCmd": "print(var_dic_list())"
    },
    "r": {
     "delete_cmd_postfix": ") ",
     "delete_cmd_prefix": "rm(",
     "library": "var_list.r",
     "varRefreshCmd": "cat(var_dic_list()) "
    }
   },
   "oldHeight": 413,
   "position": {
    "height": "435px",
    "left": "996px",
    "right": "20px",
    "top": "111px",
    "width": "289px"
   },
   "types_to_exclude": [
    "module",
    "function",
    "builtin_function_or_method",
    "instance",
    "_Feature"
   ],
   "varInspector_section_display": "block",
   "window_display": false
  }
 },
 "nbformat": 4,
 "nbformat_minor": 4
}
